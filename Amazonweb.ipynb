{
 "cells": [
  {
   "cell_type": "code",
   "execution_count": 1,
   "id": "876a8e91-d86c-4c4a-a9d1-f232389c7e80",
   "metadata": {},
   "outputs": [],
   "source": [
    "from bs4 import BeautifulSoup\n",
    "import requests\n",
    "import time\n",
    "import datetime\n",
    "\n",
    "import smtplib"
   ]
  },
  {
   "cell_type": "code",
   "execution_count": null,
   "id": "80c7c58a-6952-4aeb-a17a-5e702cb760ce",
   "metadata": {},
   "outputs": [],
   "source": [
    "URL ='https://www.amazon.com/Funny-Data-Systems-Business-Analyst/dp/B07FNW9FGJ/ref=sr_1_3?dchild=1&keywords=data%2Banalyst%2Btshirt&qid=1626655184&sr=8-3&customId=B0752XJYNL&th=1'\n",
    "\n",
    "headers = {\"User-Agent\": \"Mozilla/5.0 (Windows NT 10.0; Win64; x64) AppleWebKit/537.36\", \"Accept-Encoding\":\"gzip, deflate\", \"Accept\":\"text/html,application/xhtml+xml,application/xml;q=0.9,*/*;q=0.8\", \"DNT\":\"1\",\"Connection\":\"close\", \"Upgrade-Insecure-Requests\":\"1\"}\n",
    "\n",
    "page= requests.get(URL, headers = headers)\n",
    "\n",
    "soup1 = BeautifulSoup(page.content, \"html.parser\")\n",
    "\n",
    "soup2 =BeautifulSoup(soup1.prettify(), 'html.parser')\n",
    "\n",
    "title = soup2.find(id ='productTitle').get_text()\n",
    "\n",
    "\n",
    "print(title)\n",
    "\n",
    "\n"
   ]
  },
  {
   "cell_type": "code",
   "execution_count": 91,
   "id": "95fcd482-5da8-4eff-a20a-2edfd91c1993",
   "metadata": {},
   "outputs": [
    {
     "name": "stdout",
     "output_type": "stream",
     "text": [
      "Got Data Funny Business Data Analyst T-Shirt\n"
     ]
    }
   ],
   "source": [
    "title=title.strip()\n",
    "print(\n"
   ]
  },
  {
   "cell_type": "code",
   "execution_count": 67,
   "id": "b63acb4b-45e3-4917-b09c-dfed07128bea",
   "metadata": {},
   "outputs": [
    {
     "name": "stdout",
     "output_type": "stream",
     "text": [
      "2025-01-30\n"
     ]
    }
   ],
   "source": [
    "import datetime\n",
    "\n",
    "today=datetime.date.today()\n",
    "print(today)"
   ]
  },
  {
   "cell_type": "code",
   "execution_count": 73,
   "id": "48ee0c69-6cfd-4e0c-b057-461bde9c2b30",
   "metadata": {},
   "outputs": [],
   "source": [
    "import csv \n",
    "\n",
    "header= ['Title','date']\n",
    "data = [title,today]\n",
    "\n",
    "\n",
    "\n",
    "with open('AmazonwebDataSet.csv', 'w', newline='', encoding='UTF8') as f:\n",
    "    writer = csv.writer(f)\n",
    "    writer.writerow(header) \n",
    "    writer.writerow(data)  "
   ]
  },
  {
   "cell_type": "code",
   "execution_count": 81,
   "id": "f10b313b-6234-4818-bd89-462e06ec6aae",
   "metadata": {},
   "outputs": [
    {
     "name": "stdout",
     "output_type": "stream",
     "text": [
      "                                          Title        date\n",
      "0  Got Data Funny Business Data Analyst T-Shirt  2025-01-30\n",
      "1  Got Data Funny Business Data Analyst T-Shirt  2025-01-30\n"
     ]
    }
   ],
   "source": [
    "import pandas as pd\n",
    "\n",
    "df=pd.read_csv(r'C:\\Users\\MekdesGirma\\AmazonwebDataSet.csv')\n",
    "print(df)"
   ]
  },
  {
   "cell_type": "code",
   "execution_count": 100,
   "id": "a3f925f9-5fc9-498f-84f1-774d6da6a680",
   "metadata": {},
   "outputs": [],
   "source": [
    "with open('AmazonwebDataSet.csv', 'a+', newline='', encoding='UTF8') as f:\n",
    "    writer = csv.writer(f)\n",
    "    writer.writerow(data)  "
   ]
  },
  {
   "cell_type": "code",
   "execution_count": 118,
   "id": "93f03cba-3919-4ed8-a4db-0a079c033ff2",
   "metadata": {},
   "outputs": [],
   "source": [
    " def check_price():\n",
    "    URL ='https://www.amazon.com/Funny-Data-Systems-Business-Analyst/dp/B07FNW9FGJ/ref=sr_1_3?dchild=1&keywords=data%2Banalyst%2Btshirt&qid=1626655184&sr=8-3&customId=B0752XJYNL&th=1'\n",
    "        \n",
    "    headers = {\"User-Agent\": \"Mozilla/5.0 (Windows NT 10.0; Win64; x64) AppleWebKit/537.36\", \"Accept-Encoding\":\"gzip, deflate\", \"Accept\":\"text/html,application/xhtml+xml,application/xml;q=0.9,*/*;q=0.8\", \"DNT\":\"1\",\"Connection\":\"close\", \"Upgrade-Insecure-Requests\":\"1\"}\n",
    "        \n",
    "    page= requests.get(URL, headers = headers)\n",
    "        \n",
    "    soup1 = BeautifulSoup(page.content, \"html.parser\")\n",
    "        \n",
    "    soup2 =BeautifulSoup(soup1.prettify(), 'html.parser')\n",
    "        \n",
    "    title = soup2.find(id ='productTitle').get_text()\n",
    "     \n",
    "    title=title.strip()\n",
    "        \n",
    "\n",
    "    import datetime\n",
    "        \n",
    "    today=datetime.date.today()\n",
    "    print(today)\n",
    "\n",
    "    import csv \n",
    "        \n",
    "    header= ['Title','date']\n",
    "    data = [title,today]\n",
    "\n",
    "    with open('AmazonWebScraperDataset.csv', 'a+', newline='', encoding='UTF8') as f:\n",
    "        writer = csv.writer(f)\n",
    "        writer.writerow(data)\n",
    "     "
   ]
  },
  {
   "cell_type": "code",
   "execution_count": null,
   "id": "04c0e781-171f-4264-b41c-bbb46961dd85",
   "metadata": {},
   "outputs": [
    {
     "name": "stdout",
     "output_type": "stream",
     "text": [
      "2025-01-30\n"
     ]
    }
   ],
   "source": [
    "while(True):\n",
    "    check_price()\n",
    "    time.sleep(86400)"
   ]
  },
  {
   "cell_type": "code",
   "execution_count": 124,
   "id": "92e7427a-2d1a-49a3-8c35-e304d1c2d797",
   "metadata": {},
   "outputs": [
    {
     "name": "stdout",
     "output_type": "stream",
     "text": [
      "                                          Title        date\n",
      "0  Got Data Funny Business Data Analyst T-Shirt  2025-01-30\n",
      "1  Got Data Funny Business Data Analyst T-Shirt  2025-01-30\n",
      "2  Got Data Funny Business Data Analyst T-Shirt  2025-01-30\n"
     ]
    }
   ],
   "source": [
    "import pandas as pd\n",
    "\n",
    "df=pd.read_csv(r'C:\\Users\\MekdesGirma\\AmazonwebDataSet.csv')\n",
    "print(df)"
   ]
  },
  {
   "cell_type": "code",
   "execution_count": null,
   "id": "89587749-4a65-4c20-a896-742dd590a44c",
   "metadata": {},
   "outputs": [],
   "source": []
  }
 ],
 "metadata": {
  "kernelspec": {
   "display_name": "Python 3 (ipykernel)",
   "language": "python",
   "name": "python3"
  },
  "language_info": {
   "codemirror_mode": {
    "name": "ipython",
    "version": 3
   },
   "file_extension": ".py",
   "mimetype": "text/x-python",
   "name": "python",
   "nbconvert_exporter": "python",
   "pygments_lexer": "ipython3",
   "version": "3.12.4"
  }
 },
 "nbformat": 4,
 "nbformat_minor": 5
}
